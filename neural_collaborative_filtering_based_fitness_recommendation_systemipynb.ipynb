{
  "nbformat": 4,
  "nbformat_minor": 0,
  "metadata": {
    "colab": {
      "provenance": []
    },
    "kernelspec": {
      "name": "python3",
      "display_name": "Python 3"
    },
    "language_info": {
      "name": "python"
    }
  },
  "cells": [
    {
      "cell_type": "markdown",
      "source": [],
      "metadata": {
        "id": "r5tZs2k55b9Q"
      }
    },
    {
      "cell_type": "code",
      "execution_count": null,
      "metadata": {
        "colab": {
          "base_uri": "https://localhost:8080/"
        },
        "id": "EKD9mOCCdgCm",
        "outputId": "9167aee9-db0f-4ddd-db63-82d870c64fb5"
      },
      "outputs": [
        {
          "output_type": "stream",
          "name": "stdout",
          "text": [
            "Mounted at /content/drive\n"
          ]
        }
      ],
      "source": [
        "from google.colab import drive\n",
        "drive.mount('/content/drive')"
      ]
    },
    {
      "cell_type": "code",
      "source": [
        "import pandas as pd\n",
        "import numpy as np\n",
        "from sklearn.model_selection import train_test_split\n",
        "from keras.layers import Input, Embedding, Flatten, Dense, concatenate\n",
        "from keras.models import Model\n",
        "from keras.optimizers import Adam"
      ],
      "metadata": {
        "id": "1adVNLjEdpZi"
      },
      "execution_count": null,
      "outputs": []
    },
    {
      "cell_type": "code",
      "source": [
        "path = '/content/drive/MyDrive/endomondoHR/Data/endomondo_preprocessed.csv'\n",
        "df = pd.read_csv(path)"
      ],
      "metadata": {
        "id": "Ds7qhnvLdpVJ"
      },
      "execution_count": null,
      "outputs": []
    },
    {
      "cell_type": "code",
      "source": [
        "df.head()"
      ],
      "metadata": {
        "colab": {
          "base_uri": "https://localhost:8080/",
          "height": 464
        },
        "id": "VYX9ZNPDdpUB",
        "outputId": "2190ad65-9a89-4d13-841d-435d59055a38"
      },
      "execution_count": null,
      "outputs": [
        {
          "output_type": "execute_result",
          "data": {
            "text/plain": [
              "          id    userId gender sport  duration  calories  distance  \\\n",
              "0  396826535  10921915   male  bike      7589    1562.0     53.88   \n",
              "1  392337038  10921915   male  bike      4440     908.0     32.61   \n",
              "2  386729739  10921915   male  bike      4519     921.0     32.70   \n",
              "3  371302193  10921915   male  bike      4422     889.0     32.65   \n",
              "4  366977747  10921915   male  bike      6770    1222.0     46.37   \n",
              "\n",
              "   avg_heart_rate                                          longitude  \\\n",
              "0         152.650  [24.64977040886879, 24.65014273300767, 24.6509...   \n",
              "1         147.710  [24.649855233728886, 24.65015547350049, 24.650...   \n",
              "2         147.020  [24.649874344468117, 24.650242729112506, 24.65...   \n",
              "3         145.914  [24.65018338523805, 24.650422520935535, 24.650...   \n",
              "4         143.224  [24.64970293454826, 24.65009386651218, 24.6508...   \n",
              "\n",
              "                                            latitude  ...  \\\n",
              "0  [60.173348765820265, 60.173239801079035, 60.17...  ...   \n",
              "1  [60.173247596248984, 60.17320962622762, 60.172...  ...   \n",
              "2  [60.173286236822605, 60.17323946580291, 60.173...  ...   \n",
              "3  [60.17324591986835, 60.17319998703897, 60.1730...  ...   \n",
              "4  [60.173228066414595, 60.173104433342814, 60.17...  ...   \n",
              "\n",
              "                                    derived_distance  \\\n",
              "0  [0.023920359645758085, 0.0513686868631109, 0.0...   \n",
              "1  [0.01714931222251621, 0.047614484656155226, 0....   \n",
              "2  [0.02104899112126496, 0.03733382239564792, 0.0...   \n",
              "3  [0.014204602439679812, 0.028542833923925526, 0...   \n",
              "4  [0.02565751019948074, 0.055649820287697715, 0....   \n",
              "\n",
              "                                       derived_speed  \\\n",
              "0  [10.764161840591138, 16.81157024610902, 15.919...   \n",
              "1  [12.34750480021167, 14.284345396846566, 17.330...   \n",
              "2  [12.629394672758975, 16.800220078041566, 20.17...   \n",
              "3  [12.78414219571183, 17.125700354355313, 20.887...   \n",
              "4  [10.263004079792296, 13.355956869047452, 19.92...   \n",
              "\n",
              "                                        time_elapsed validate avg_alti  \\\n",
              "0  [8, 11, 13, 16, 6, 23, 16, 23, 29, 23, 24, 24,...     True  43.0712   \n",
              "1  [5, 12, 8, 4, 5, 6, 4, 4, 5, 13, 7, 17, 4, 10,...     True  35.7248   \n",
              "2  [6, 8, 9, 4, 13, 4, 3, 4, 13, 10, 13, 13, 7, 1...     True  32.6104   \n",
              "3  [4, 6, 9, 5, 10, 4, 4, 6, 10, 10, 5, 10, 11, 4...     True  22.1912   \n",
              "4  [9, 15, 23, 5, 10, 18, 12, 17, 7, 12, 19, 17, ...     True  48.5860   \n",
              "\n",
              "  change_alti max_alti min_alti  diff_alti  avg_speed  \n",
              "0       820.6     74.2     14.6       59.6  25.568980  \n",
              "1       454.2     67.8     17.2       50.6  27.129599  \n",
              "2       481.4     64.0     12.4       51.6  26.651989  \n",
              "3       522.4     56.4      4.0       52.4  27.306088  \n",
              "4       701.6     79.4     21.2       58.2  24.824423  \n",
              "\n",
              "[5 rows x 25 columns]"
            ],
            "text/html": [
              "\n",
              "  <div id=\"df-355a457b-e115-475b-a236-0882f37b33b4\" class=\"colab-df-container\">\n",
              "    <div>\n",
              "<style scoped>\n",
              "    .dataframe tbody tr th:only-of-type {\n",
              "        vertical-align: middle;\n",
              "    }\n",
              "\n",
              "    .dataframe tbody tr th {\n",
              "        vertical-align: top;\n",
              "    }\n",
              "\n",
              "    .dataframe thead th {\n",
              "        text-align: right;\n",
              "    }\n",
              "</style>\n",
              "<table border=\"1\" class=\"dataframe\">\n",
              "  <thead>\n",
              "    <tr style=\"text-align: right;\">\n",
              "      <th></th>\n",
              "      <th>id</th>\n",
              "      <th>userId</th>\n",
              "      <th>gender</th>\n",
              "      <th>sport</th>\n",
              "      <th>duration</th>\n",
              "      <th>calories</th>\n",
              "      <th>distance</th>\n",
              "      <th>avg_heart_rate</th>\n",
              "      <th>longitude</th>\n",
              "      <th>latitude</th>\n",
              "      <th>...</th>\n",
              "      <th>derived_distance</th>\n",
              "      <th>derived_speed</th>\n",
              "      <th>time_elapsed</th>\n",
              "      <th>validate</th>\n",
              "      <th>avg_alti</th>\n",
              "      <th>change_alti</th>\n",
              "      <th>max_alti</th>\n",
              "      <th>min_alti</th>\n",
              "      <th>diff_alti</th>\n",
              "      <th>avg_speed</th>\n",
              "    </tr>\n",
              "  </thead>\n",
              "  <tbody>\n",
              "    <tr>\n",
              "      <th>0</th>\n",
              "      <td>396826535</td>\n",
              "      <td>10921915</td>\n",
              "      <td>male</td>\n",
              "      <td>bike</td>\n",
              "      <td>7589</td>\n",
              "      <td>1562.0</td>\n",
              "      <td>53.88</td>\n",
              "      <td>152.650</td>\n",
              "      <td>[24.64977040886879, 24.65014273300767, 24.6509...</td>\n",
              "      <td>[60.173348765820265, 60.173239801079035, 60.17...</td>\n",
              "      <td>...</td>\n",
              "      <td>[0.023920359645758085, 0.0513686868631109, 0.0...</td>\n",
              "      <td>[10.764161840591138, 16.81157024610902, 15.919...</td>\n",
              "      <td>[8, 11, 13, 16, 6, 23, 16, 23, 29, 23, 24, 24,...</td>\n",
              "      <td>True</td>\n",
              "      <td>43.0712</td>\n",
              "      <td>820.6</td>\n",
              "      <td>74.2</td>\n",
              "      <td>14.6</td>\n",
              "      <td>59.6</td>\n",
              "      <td>25.568980</td>\n",
              "    </tr>\n",
              "    <tr>\n",
              "      <th>1</th>\n",
              "      <td>392337038</td>\n",
              "      <td>10921915</td>\n",
              "      <td>male</td>\n",
              "      <td>bike</td>\n",
              "      <td>4440</td>\n",
              "      <td>908.0</td>\n",
              "      <td>32.61</td>\n",
              "      <td>147.710</td>\n",
              "      <td>[24.649855233728886, 24.65015547350049, 24.650...</td>\n",
              "      <td>[60.173247596248984, 60.17320962622762, 60.172...</td>\n",
              "      <td>...</td>\n",
              "      <td>[0.01714931222251621, 0.047614484656155226, 0....</td>\n",
              "      <td>[12.34750480021167, 14.284345396846566, 17.330...</td>\n",
              "      <td>[5, 12, 8, 4, 5, 6, 4, 4, 5, 13, 7, 17, 4, 10,...</td>\n",
              "      <td>True</td>\n",
              "      <td>35.7248</td>\n",
              "      <td>454.2</td>\n",
              "      <td>67.8</td>\n",
              "      <td>17.2</td>\n",
              "      <td>50.6</td>\n",
              "      <td>27.129599</td>\n",
              "    </tr>\n",
              "    <tr>\n",
              "      <th>2</th>\n",
              "      <td>386729739</td>\n",
              "      <td>10921915</td>\n",
              "      <td>male</td>\n",
              "      <td>bike</td>\n",
              "      <td>4519</td>\n",
              "      <td>921.0</td>\n",
              "      <td>32.70</td>\n",
              "      <td>147.020</td>\n",
              "      <td>[24.649874344468117, 24.650242729112506, 24.65...</td>\n",
              "      <td>[60.173286236822605, 60.17323946580291, 60.173...</td>\n",
              "      <td>...</td>\n",
              "      <td>[0.02104899112126496, 0.03733382239564792, 0.0...</td>\n",
              "      <td>[12.629394672758975, 16.800220078041566, 20.17...</td>\n",
              "      <td>[6, 8, 9, 4, 13, 4, 3, 4, 13, 10, 13, 13, 7, 1...</td>\n",
              "      <td>True</td>\n",
              "      <td>32.6104</td>\n",
              "      <td>481.4</td>\n",
              "      <td>64.0</td>\n",
              "      <td>12.4</td>\n",
              "      <td>51.6</td>\n",
              "      <td>26.651989</td>\n",
              "    </tr>\n",
              "    <tr>\n",
              "      <th>3</th>\n",
              "      <td>371302193</td>\n",
              "      <td>10921915</td>\n",
              "      <td>male</td>\n",
              "      <td>bike</td>\n",
              "      <td>4422</td>\n",
              "      <td>889.0</td>\n",
              "      <td>32.65</td>\n",
              "      <td>145.914</td>\n",
              "      <td>[24.65018338523805, 24.650422520935535, 24.650...</td>\n",
              "      <td>[60.17324591986835, 60.17319998703897, 60.1730...</td>\n",
              "      <td>...</td>\n",
              "      <td>[0.014204602439679812, 0.028542833923925526, 0...</td>\n",
              "      <td>[12.78414219571183, 17.125700354355313, 20.887...</td>\n",
              "      <td>[4, 6, 9, 5, 10, 4, 4, 6, 10, 10, 5, 10, 11, 4...</td>\n",
              "      <td>True</td>\n",
              "      <td>22.1912</td>\n",
              "      <td>522.4</td>\n",
              "      <td>56.4</td>\n",
              "      <td>4.0</td>\n",
              "      <td>52.4</td>\n",
              "      <td>27.306088</td>\n",
              "    </tr>\n",
              "    <tr>\n",
              "      <th>4</th>\n",
              "      <td>366977747</td>\n",
              "      <td>10921915</td>\n",
              "      <td>male</td>\n",
              "      <td>bike</td>\n",
              "      <td>6770</td>\n",
              "      <td>1222.0</td>\n",
              "      <td>46.37</td>\n",
              "      <td>143.224</td>\n",
              "      <td>[24.64970293454826, 24.65009386651218, 24.6508...</td>\n",
              "      <td>[60.173228066414595, 60.173104433342814, 60.17...</td>\n",
              "      <td>...</td>\n",
              "      <td>[0.02565751019948074, 0.055649820287697715, 0....</td>\n",
              "      <td>[10.263004079792296, 13.355956869047452, 19.92...</td>\n",
              "      <td>[9, 15, 23, 5, 10, 18, 12, 17, 7, 12, 19, 17, ...</td>\n",
              "      <td>True</td>\n",
              "      <td>48.5860</td>\n",
              "      <td>701.6</td>\n",
              "      <td>79.4</td>\n",
              "      <td>21.2</td>\n",
              "      <td>58.2</td>\n",
              "      <td>24.824423</td>\n",
              "    </tr>\n",
              "  </tbody>\n",
              "</table>\n",
              "<p>5 rows × 25 columns</p>\n",
              "</div>\n",
              "    <div class=\"colab-df-buttons\">\n",
              "\n",
              "  <div class=\"colab-df-container\">\n",
              "    <button class=\"colab-df-convert\" onclick=\"convertToInteractive('df-355a457b-e115-475b-a236-0882f37b33b4')\"\n",
              "            title=\"Convert this dataframe to an interactive table.\"\n",
              "            style=\"display:none;\">\n",
              "\n",
              "  <svg xmlns=\"http://www.w3.org/2000/svg\" height=\"24px\" viewBox=\"0 -960 960 960\">\n",
              "    <path d=\"M120-120v-720h720v720H120Zm60-500h600v-160H180v160Zm220 220h160v-160H400v160Zm0 220h160v-160H400v160ZM180-400h160v-160H180v160Zm440 0h160v-160H620v160ZM180-180h160v-160H180v160Zm440 0h160v-160H620v160Z\"/>\n",
              "  </svg>\n",
              "    </button>\n",
              "\n",
              "  <style>\n",
              "    .colab-df-container {\n",
              "      display:flex;\n",
              "      gap: 12px;\n",
              "    }\n",
              "\n",
              "    .colab-df-convert {\n",
              "      background-color: #E8F0FE;\n",
              "      border: none;\n",
              "      border-radius: 50%;\n",
              "      cursor: pointer;\n",
              "      display: none;\n",
              "      fill: #1967D2;\n",
              "      height: 32px;\n",
              "      padding: 0 0 0 0;\n",
              "      width: 32px;\n",
              "    }\n",
              "\n",
              "    .colab-df-convert:hover {\n",
              "      background-color: #E2EBFA;\n",
              "      box-shadow: 0px 1px 2px rgba(60, 64, 67, 0.3), 0px 1px 3px 1px rgba(60, 64, 67, 0.15);\n",
              "      fill: #174EA6;\n",
              "    }\n",
              "\n",
              "    .colab-df-buttons div {\n",
              "      margin-bottom: 4px;\n",
              "    }\n",
              "\n",
              "    [theme=dark] .colab-df-convert {\n",
              "      background-color: #3B4455;\n",
              "      fill: #D2E3FC;\n",
              "    }\n",
              "\n",
              "    [theme=dark] .colab-df-convert:hover {\n",
              "      background-color: #434B5C;\n",
              "      box-shadow: 0px 1px 3px 1px rgba(0, 0, 0, 0.15);\n",
              "      filter: drop-shadow(0px 1px 2px rgba(0, 0, 0, 0.3));\n",
              "      fill: #FFFFFF;\n",
              "    }\n",
              "  </style>\n",
              "\n",
              "    <script>\n",
              "      const buttonEl =\n",
              "        document.querySelector('#df-355a457b-e115-475b-a236-0882f37b33b4 button.colab-df-convert');\n",
              "      buttonEl.style.display =\n",
              "        google.colab.kernel.accessAllowed ? 'block' : 'none';\n",
              "\n",
              "      async function convertToInteractive(key) {\n",
              "        const element = document.querySelector('#df-355a457b-e115-475b-a236-0882f37b33b4');\n",
              "        const dataTable =\n",
              "          await google.colab.kernel.invokeFunction('convertToInteractive',\n",
              "                                                    [key], {});\n",
              "        if (!dataTable) return;\n",
              "\n",
              "        const docLinkHtml = 'Like what you see? Visit the ' +\n",
              "          '<a target=\"_blank\" href=https://colab.research.google.com/notebooks/data_table.ipynb>data table notebook</a>'\n",
              "          + ' to learn more about interactive tables.';\n",
              "        element.innerHTML = '';\n",
              "        dataTable['output_type'] = 'display_data';\n",
              "        await google.colab.output.renderOutput(dataTable, element);\n",
              "        const docLink = document.createElement('div');\n",
              "        docLink.innerHTML = docLinkHtml;\n",
              "        element.appendChild(docLink);\n",
              "      }\n",
              "    </script>\n",
              "  </div>\n",
              "\n",
              "\n",
              "<div id=\"df-d3c25a25-c7fd-4090-ac79-3cad339e34af\">\n",
              "  <button class=\"colab-df-quickchart\" onclick=\"quickchart('df-d3c25a25-c7fd-4090-ac79-3cad339e34af')\"\n",
              "            title=\"Suggest charts\"\n",
              "            style=\"display:none;\">\n",
              "\n",
              "<svg xmlns=\"http://www.w3.org/2000/svg\" height=\"24px\"viewBox=\"0 0 24 24\"\n",
              "     width=\"24px\">\n",
              "    <g>\n",
              "        <path d=\"M19 3H5c-1.1 0-2 .9-2 2v14c0 1.1.9 2 2 2h14c1.1 0 2-.9 2-2V5c0-1.1-.9-2-2-2zM9 17H7v-7h2v7zm4 0h-2V7h2v10zm4 0h-2v-4h2v4z\"/>\n",
              "    </g>\n",
              "</svg>\n",
              "  </button>\n",
              "\n",
              "<style>\n",
              "  .colab-df-quickchart {\n",
              "      --bg-color: #E8F0FE;\n",
              "      --fill-color: #1967D2;\n",
              "      --hover-bg-color: #E2EBFA;\n",
              "      --hover-fill-color: #174EA6;\n",
              "      --disabled-fill-color: #AAA;\n",
              "      --disabled-bg-color: #DDD;\n",
              "  }\n",
              "\n",
              "  [theme=dark] .colab-df-quickchart {\n",
              "      --bg-color: #3B4455;\n",
              "      --fill-color: #D2E3FC;\n",
              "      --hover-bg-color: #434B5C;\n",
              "      --hover-fill-color: #FFFFFF;\n",
              "      --disabled-bg-color: #3B4455;\n",
              "      --disabled-fill-color: #666;\n",
              "  }\n",
              "\n",
              "  .colab-df-quickchart {\n",
              "    background-color: var(--bg-color);\n",
              "    border: none;\n",
              "    border-radius: 50%;\n",
              "    cursor: pointer;\n",
              "    display: none;\n",
              "    fill: var(--fill-color);\n",
              "    height: 32px;\n",
              "    padding: 0;\n",
              "    width: 32px;\n",
              "  }\n",
              "\n",
              "  .colab-df-quickchart:hover {\n",
              "    background-color: var(--hover-bg-color);\n",
              "    box-shadow: 0 1px 2px rgba(60, 64, 67, 0.3), 0 1px 3px 1px rgba(60, 64, 67, 0.15);\n",
              "    fill: var(--button-hover-fill-color);\n",
              "  }\n",
              "\n",
              "  .colab-df-quickchart-complete:disabled,\n",
              "  .colab-df-quickchart-complete:disabled:hover {\n",
              "    background-color: var(--disabled-bg-color);\n",
              "    fill: var(--disabled-fill-color);\n",
              "    box-shadow: none;\n",
              "  }\n",
              "\n",
              "  .colab-df-spinner {\n",
              "    border: 2px solid var(--fill-color);\n",
              "    border-color: transparent;\n",
              "    border-bottom-color: var(--fill-color);\n",
              "    animation:\n",
              "      spin 1s steps(1) infinite;\n",
              "  }\n",
              "\n",
              "  @keyframes spin {\n",
              "    0% {\n",
              "      border-color: transparent;\n",
              "      border-bottom-color: var(--fill-color);\n",
              "      border-left-color: var(--fill-color);\n",
              "    }\n",
              "    20% {\n",
              "      border-color: transparent;\n",
              "      border-left-color: var(--fill-color);\n",
              "      border-top-color: var(--fill-color);\n",
              "    }\n",
              "    30% {\n",
              "      border-color: transparent;\n",
              "      border-left-color: var(--fill-color);\n",
              "      border-top-color: var(--fill-color);\n",
              "      border-right-color: var(--fill-color);\n",
              "    }\n",
              "    40% {\n",
              "      border-color: transparent;\n",
              "      border-right-color: var(--fill-color);\n",
              "      border-top-color: var(--fill-color);\n",
              "    }\n",
              "    60% {\n",
              "      border-color: transparent;\n",
              "      border-right-color: var(--fill-color);\n",
              "    }\n",
              "    80% {\n",
              "      border-color: transparent;\n",
              "      border-right-color: var(--fill-color);\n",
              "      border-bottom-color: var(--fill-color);\n",
              "    }\n",
              "    90% {\n",
              "      border-color: transparent;\n",
              "      border-bottom-color: var(--fill-color);\n",
              "    }\n",
              "  }\n",
              "</style>\n",
              "\n",
              "  <script>\n",
              "    async function quickchart(key) {\n",
              "      const quickchartButtonEl =\n",
              "        document.querySelector('#' + key + ' button');\n",
              "      quickchartButtonEl.disabled = true;  // To prevent multiple clicks.\n",
              "      quickchartButtonEl.classList.add('colab-df-spinner');\n",
              "      try {\n",
              "        const charts = await google.colab.kernel.invokeFunction(\n",
              "            'suggestCharts', [key], {});\n",
              "      } catch (error) {\n",
              "        console.error('Error during call to suggestCharts:', error);\n",
              "      }\n",
              "      quickchartButtonEl.classList.remove('colab-df-spinner');\n",
              "      quickchartButtonEl.classList.add('colab-df-quickchart-complete');\n",
              "    }\n",
              "    (() => {\n",
              "      let quickchartButtonEl =\n",
              "        document.querySelector('#df-d3c25a25-c7fd-4090-ac79-3cad339e34af button');\n",
              "      quickchartButtonEl.style.display =\n",
              "        google.colab.kernel.accessAllowed ? 'block' : 'none';\n",
              "    })();\n",
              "  </script>\n",
              "</div>\n",
              "    </div>\n",
              "  </div>\n"
            ],
            "application/vnd.google.colaboratory.intrinsic+json": {
              "type": "dataframe",
              "variable_name": "df"
            }
          },
          "metadata": {},
          "execution_count": 6
        }
      ]
    },
    {
      "cell_type": "code",
      "source": [
        "!pip install keras-tuner"
      ],
      "metadata": {
        "colab": {
          "base_uri": "https://localhost:8080/"
        },
        "id": "A6HdT0_adpPj",
        "outputId": "373f0804-2160-455b-d5bb-bcbc1a330e24"
      },
      "execution_count": null,
      "outputs": [
        {
          "output_type": "stream",
          "name": "stdout",
          "text": [
            "Collecting keras-tuner\n",
            "  Downloading keras_tuner-1.4.7-py3-none-any.whl (129 kB)\n",
            "\u001b[?25l     \u001b[90m━━━━━━━━━━━━━━━━━━━━━━━━━━━━━━━━━━━━━━━━\u001b[0m \u001b[32m0.0/129.1 kB\u001b[0m \u001b[31m?\u001b[0m eta \u001b[36m-:--:--\u001b[0m\r\u001b[2K     \u001b[90m━━━━━━━━━━━━━━━━━━━━━━━━━━━━━━━━━━━━━━━━\u001b[0m \u001b[32m129.1/129.1 kB\u001b[0m \u001b[31m3.7 MB/s\u001b[0m eta \u001b[36m0:00:00\u001b[0m\n",
            "\u001b[?25hRequirement already satisfied: keras in /usr/local/lib/python3.10/dist-packages (from keras-tuner) (2.15.0)\n",
            "Requirement already satisfied: packaging in /usr/local/lib/python3.10/dist-packages (from keras-tuner) (24.0)\n",
            "Requirement already satisfied: requests in /usr/local/lib/python3.10/dist-packages (from keras-tuner) (2.31.0)\n",
            "Collecting kt-legacy (from keras-tuner)\n",
            "  Downloading kt_legacy-1.0.5-py3-none-any.whl (9.6 kB)\n",
            "Requirement already satisfied: charset-normalizer<4,>=2 in /usr/local/lib/python3.10/dist-packages (from requests->keras-tuner) (3.3.2)\n",
            "Requirement already satisfied: idna<4,>=2.5 in /usr/local/lib/python3.10/dist-packages (from requests->keras-tuner) (3.7)\n",
            "Requirement already satisfied: urllib3<3,>=1.21.1 in /usr/local/lib/python3.10/dist-packages (from requests->keras-tuner) (2.0.7)\n",
            "Requirement already satisfied: certifi>=2017.4.17 in /usr/local/lib/python3.10/dist-packages (from requests->keras-tuner) (2024.2.2)\n",
            "Installing collected packages: kt-legacy, keras-tuner\n",
            "Successfully installed keras-tuner-1.4.7 kt-legacy-1.0.5\n"
          ]
        }
      ]
    },
    {
      "cell_type": "code",
      "source": [
        "import pandas as pd\n",
        "import numpy as np\n",
        "from sklearn.preprocessing import LabelEncoder\n",
        "from sklearn.model_selection import train_test_split\n",
        "from keras.models import Model\n",
        "from keras.layers import Input, Dense, Concatenate\n",
        "from keras.optimizers import Adam\n",
        "from scipy.sparse import coo_matrix\n",
        "from scipy.sparse.linalg import svds\n",
        "\n",
        "# Suppress SettingWithCopyWarning\n",
        "pd.set_option('mode.chained_assignment', None)\n",
        "\n",
        "# Select relevant columns for matrix factorization\n",
        "data = df[['userId', 'sport', 'duration', 'avg_heart_rate', 'calories', 'distance', 'avg_speed']]"
      ],
      "metadata": {
        "id": "oQ0jffv9dpOb"
      },
      "execution_count": null,
      "outputs": []
    },
    {
      "cell_type": "code",
      "source": [
        "# Encode categorical variables\n",
        "label_encoders = {}\n",
        "categorical_cols = ['userId', 'sport']\n",
        "for col in categorical_cols:\n",
        "    label_encoders[col] = LabelEncoder()\n",
        "    data.loc[:, col] = label_encoders[col].fit_transform(data.loc[:, col])\n",
        "\n",
        "# Create user-item matrix\n",
        "user_item_matrix = pd.pivot_table(data, values=['duration', 'avg_heart_rate', 'calories', 'distance', 'avg_speed'],\n",
        "                                  index='userId', columns='sport', fill_value=0)\n",
        "\n",
        "# Convert to sparse matrix\n",
        "sparse_matrix = coo_matrix(user_item_matrix)\n",
        "\n",
        "# Perform Singular Value Decomposition (SVD)\n",
        "U, Sigma, VT = svds(sparse_matrix, k=8)\n",
        "\n",
        "# Reconstruct the original matrix\n",
        "predicted_ratings = np.dot(np.dot(U, np.diag(Sigma)), VT)\n",
        "\n",
        "# Flatten the predicted ratings matrix\n",
        "X_factorization = predicted_ratings.flatten()\n",
        "\n",
        "# Create target labels (1 for rated, 0 for unrated)\n",
        "y_factorization = np.where(X_factorization > 0, 1, 0)\n",
        "\n",
        "# Split the data into training and testing sets for matrix factorization features\n",
        "X_train_factorization, X_test_factorization, y_train_factorization, y_test_factorization = train_test_split(\n",
        "    X_factorization.reshape(-1, 1), y_factorization, test_size=0.2, random_state=42)"
      ],
      "metadata": {
        "id": "V8PMd6dedpJv"
      },
      "execution_count": null,
      "outputs": []
    },
    {
      "cell_type": "code",
      "source": [
        "print(user_item_matrix)"
      ],
      "metadata": {
        "colab": {
          "base_uri": "https://localhost:8080/"
        },
        "id": "ZsBVMzZgdpIk",
        "outputId": "ea0f2257-351e-4ceb-918a-0e114306b496"
      },
      "execution_count": null,
      "outputs": [
        {
          "output_type": "stream",
          "name": "stdout",
          "text": [
            "       avg_heart_rate                          avg_speed                       \\\n",
            "sport               0           1           2          0         1          2   \n",
            "userId                                                                          \n",
            "0          138.294727    0.000000  143.189091  29.464365  0.000000  10.231895   \n",
            "1          141.351556    0.000000  148.202807  30.913044  0.000000  12.655852   \n",
            "2          142.249200    0.000000  141.127161  26.839424  0.000000  10.741866   \n",
            "3          144.330250  134.571818  154.157714  26.627065  9.551412  11.959801   \n",
            "4          130.098000    0.000000  107.838545  27.236365  0.000000   7.420542   \n",
            "...               ...         ...         ...        ...       ...        ...   \n",
            "930        137.656865    0.000000    0.000000  22.598349  0.000000   0.000000   \n",
            "931        122.798727    0.000000  160.038984  19.027144  0.000000  10.679204   \n",
            "932        180.590000    0.000000  169.238937  23.895181  0.000000   9.701528   \n",
            "933          0.000000    0.000000  154.853800   0.000000  0.000000  11.945161   \n",
            "934        124.552000    0.000000  151.676692  25.911662  0.000000  10.479556   \n",
            "\n",
            "           calories                         distance                        \\\n",
            "sport             0        1            2          0          1          2   \n",
            "userId                                                                       \n",
            "0        662.199318     0.00   995.727273  23.339171   0.000000  12.721335   \n",
            "1        838.111111     0.00   630.672078  33.795987   0.000000   8.785813   \n",
            "2        511.867800     0.00  1200.880855  27.016614   0.000000  16.221230   \n",
            "3       1796.750000  1497.56   705.821429  59.920207  19.773543   9.722409   \n",
            "4       1009.450484     0.00   383.268455  40.191290   0.000000   5.008182   \n",
            "...             ...      ...          ...        ...        ...        ...   \n",
            "930      424.216216     0.00     0.000000  15.778307   0.000000   0.000000   \n",
            "931      301.219000     0.00   697.048159  10.236766   0.000000   9.968957   \n",
            "932      815.042000     0.00   451.291500  27.746670   0.000000   6.364735   \n",
            "933        0.000000     0.00   851.450000   0.000000   0.000000  13.626500   \n",
            "934      546.000000     0.00   531.384615  22.115000   0.000000   6.096923   \n",
            "\n",
            "           duration                            \n",
            "sport             0            1            2  \n",
            "userId                                         \n",
            "0       2842.500000     0.000000  4466.454545  \n",
            "1       3920.555556     0.000000  2553.881481  \n",
            "2       3634.800000     0.000000  5591.903226  \n",
            "3       7944.625000  7254.545455  2914.785714  \n",
            "4       5232.419355     0.000000  2625.363636  \n",
            "...             ...          ...          ...  \n",
            "930     2665.027027     0.000000     0.000000  \n",
            "931     1989.181818     0.000000  3300.714286  \n",
            "932     4214.666667     0.000000  2402.406250  \n",
            "933        0.000000     0.000000  4129.800000  \n",
            "934     3084.500000     0.000000  2129.076923  \n",
            "\n",
            "[935 rows x 15 columns]\n"
          ]
        }
      ]
    },
    {
      "cell_type": "code",
      "source": [
        "import pandas as pd\n",
        "import numpy as np\n",
        "from sklearn.model_selection import train_test_split\n",
        "from sklearn.preprocessing import StandardScaler, LabelEncoder\n",
        "from scipy.sparse import coo_matrix\n",
        "from scipy.sparse.linalg import svds\n",
        "from keras.models import Sequential\n",
        "from keras.layers import Dense\n",
        "\n",
        "# Convert categorical variables to numerical using LabelEncoder\n",
        "label_encoders = {}\n",
        "for col in ['userId', 'sport']:\n",
        "    label_encoders[col] = LabelEncoder()\n",
        "    df[col] = label_encoders[col].fit_transform(df[col])\n",
        "\n",
        "# Create user-item matrix for the 'distance' attribute\n",
        "user_item_distance = pd.pivot_table(df, values='distance', index='userId', columns='sport', fill_value=0)\n",
        "\n",
        "# Convert to sparse matrix\n",
        "sparse_matrix_distance = coo_matrix(user_item_distance)\n",
        "\n",
        "# Perform Singular Value Decomposition (SVD) for distance\n",
        "k = min(min(sparse_matrix_distance.shape) - 1, 10)\n",
        "# Adjust the value of k as needed\n",
        "if k <= 0:\n",
        "    raise ValueError(\"Invalid value of k. Must be greater than 0.\")\n",
        "\n",
        "U_distance, Sigma_distance, VT_distance = svds(sparse_matrix_distance, k=k)\n",
        "\n",
        "# Reconstruct the original matrix\n",
        "predicted_ratings_distance = np.dot(np.dot(U_distance, np.diag(Sigma_distance)), VT_distance)\n",
        "\n",
        "# Flatten the predicted ratings matrix for distance\n",
        "X_mf = predicted_ratings_distance.flatten()\n",
        "\n",
        "# Create target labels (1 for rated, 0 for unrated)\n",
        "y_mf = np.where(X_mf > 0, 1, 0)\n",
        "\n",
        "# Split the data into training and testing sets for matrix factorization\n",
        "X_train_mf, X_test_mf, y_train_mf, y_test_mf = train_test_split(X_mf, y_mf, test_size=0.2, random_state=42)"
      ],
      "metadata": {
        "id": "8zw6wtUUdpEg"
      },
      "execution_count": null,
      "outputs": []
    },
    {
      "cell_type": "code",
      "source": [
        "print(user_item_distance)\n"
      ],
      "metadata": {
        "colab": {
          "base_uri": "https://localhost:8080/"
        },
        "id": "lu-S_DNbdpDX",
        "outputId": "74b0cdf3-e615-4017-fb2a-f61ed25d3bd1"
      },
      "execution_count": null,
      "outputs": [
        {
          "output_type": "stream",
          "name": "stdout",
          "text": [
            "sport           0          1          2\n",
            "userId                                 \n",
            "0       23.339171   0.000000  12.721335\n",
            "1       33.795987   0.000000   8.785813\n",
            "2       27.016614   0.000000  16.221230\n",
            "3       59.920207  19.773543   9.722409\n",
            "4       40.191290   0.000000   5.008182\n",
            "...           ...        ...        ...\n",
            "930     15.778307   0.000000   0.000000\n",
            "931     10.236766   0.000000   9.968957\n",
            "932     27.746670   0.000000   6.364735\n",
            "933      0.000000   0.000000  13.626500\n",
            "934     22.115000   0.000000   6.096923\n",
            "\n",
            "[935 rows x 3 columns]\n"
          ]
        }
      ]
    },
    {
      "cell_type": "code",
      "source": [
        "\n",
        "# Select relevant columns for MLP model with other features\n",
        "X_other = data[['duration', 'avg_heart_rate', 'calories']].values\n",
        "y_other = data['distance'].values\n",
        "\n",
        "# Split the data into training and testing sets for other features\n",
        "X_train_other, X_test_other, y_train_other, y_test_other = train_test_split(\n",
        "    X_other, y_other, test_size=0.2, random_state=42)"
      ],
      "metadata": {
        "id": "MHloaTureG64"
      },
      "execution_count": null,
      "outputs": []
    },
    {
      "cell_type": "code",
      "source": [
        "# Define the MLP model for other features\n",
        "input_other = Input(shape=(X_train_other.shape[1],))  # Number of other features\n",
        "hidden_other = Dense(128, activation='relu')(input_other)\n",
        "hidden_other = Dense(64, activation='relu')(hidden_other)\n",
        "hidden_other = Dense(32, activation='relu')(hidden_other)\n",
        "output_other = Dense(16, activation='relu')(hidden_other)\n",
        "\n",
        "# Define the factorization input (single value)\n",
        "input_factorization = Input(shape=(1,))\n",
        "# Single value for factorization\n",
        "\n",
        "# Define the input for the encoded sport\n",
        "input_sport = Input(shape=(1,), name='sport_encoded')  # Single value for encoded sport\n",
        "\n",
        "# Combine the inputs\n",
        "combined_input = Concatenate()([input_factorization, input_other, input_sport])\n",
        "\n",
        "# Hidden layers for combined inputs\n",
        "hidden_combined = Dense(64, activation='relu')(combined_input)\n",
        "hidden_combined = Dense(32, activation='relu')(hidden_combined)\n",
        "hidden_combined = Dense(16, activation='relu')(hidden_combined)\n",
        "output_combined = Dense(8, activation='relu')(hidden_combined)\n",
        "\n",
        "# Output layer\n",
        "output = Dense(1)(output_combined)\n"
      ],
      "metadata": {
        "id": "e-J5r1HleG15"
      },
      "execution_count": null,
      "outputs": []
    },
    {
      "cell_type": "code",
      "source": [
        "\n",
        "# Define the model\n",
        "model = Model(inputs=[input_factorization, input_other, input_sport], outputs=output)\n",
        "\n",
        "# Compile the model\n",
        "model.compile(optimizer=Adam(), loss='mse')\n"
      ],
      "metadata": {
        "id": "Hm_OVhRfeG0x"
      },
      "execution_count": null,
      "outputs": []
    },
    {
      "cell_type": "code",
      "source": [
        "from keras.optimizers import Adam\n",
        "from keras_tuner import HyperModel\n",
        "\n",
        "class CustomHyperModel(HyperModel):\n",
        "    def __init__(self, input_shape, num_classes):\n",
        "        self.input_shape = input_shape\n",
        "        self.num_classes = num_classes\n",
        "\n",
        "    def build(self, hp):\n",
        "        input_factorization = Input(shape=(1,))\n",
        "        input_other = Input(shape=(X_train_other.shape[1],))\n",
        "        input_sport = Input(shape=(1,), name='sport_encoded')\n",
        "\n",
        "        combined_input = Concatenate()([input_factorization, input_other, input_sport])\n",
        "\n",
        "        # Hyperparameters\n",
        "        hp_units = hp.Int('units', min_value=32, max_value=256, step=32)\n",
        "        hp_learning_rate = hp.Choice('learning_rate', values=[1e-2, 1e-3, 1e-4])\n",
        "        hp_activation = hp.Choice('activation', values=['relu', 'tanh'])\n",
        "\n",
        "        # Hidden layers\n",
        "        x = Dense(units=hp_units, activation=hp_activation)(combined_input)\n",
        "        x = Dense(units=hp_units, activation=hp_activation)(x)\n",
        "        x = Dense(units=hp_units, activation=hp_activation)(x)\n",
        "\n",
        "        output = Dense(1)(x)\n",
        "\n",
        "        model = Model(inputs=[input_factorization, input_other, input_sport], outputs=output)\n",
        "        optimizer = Adam(learning_rate=hp_learning_rate)\n",
        "        model.compile(optimizer=optimizer, loss='mse')\n",
        "        return model\n"
      ],
      "metadata": {
        "id": "NamBoLnaeGv3"
      },
      "execution_count": null,
      "outputs": []
    },
    {
      "cell_type": "code",
      "source": [
        "from kerastuner import RandomSearch\n",
        "\n",
        "# Define hyperparameters search space\n",
        "hypermodel = CustomHyperModel(input_shape=(1,), num_classes=1)\n",
        "\n",
        "tuner = RandomSearch(\n",
        "    hypermodel,\n",
        "    objective='val_loss',\n",
        "    max_trials=2,\n",
        "    directory='hyperparameter_tuning',\n",
        "    project_name='distance_prediction'\n",
        ")\n",
        "\n",
        "# Perform hyperparameter search\n",
        "tuner.search([X_train_factorization, X_train_other, X_train_factorization], y_train_other, epochs=50, batch_size=64, validation_split=0.2)\n",
        "\n",
        "# Get the best hyperparameters\n",
        "best_hp = tuner.get_best_hyperparameters(num_trials=1)[0]\n"
      ],
      "metadata": {
        "colab": {
          "base_uri": "https://localhost:8080/"
        },
        "id": "09HBj9H4eTt3",
        "outputId": "cd03dbd9-9787-4fe2-ad98-e2d21e68331c"
      },
      "execution_count": null,
      "outputs": [
        {
          "output_type": "stream",
          "name": "stdout",
          "text": [
            "Trial 2 Complete [00h 00m 44s]\n",
            "val_loss: 127.18962860107422\n",
            "\n",
            "Best val_loss So Far: 127.18962860107422\n",
            "Total elapsed time: 00h 02m 08s\n"
          ]
        }
      ]
    },
    {
      "cell_type": "code",
      "source": [
        "# Build the model with the best hyperparameters\n",
        "model = tuner.hypermodel.build(best_hp)\n",
        "\n",
        "# Train the model with the best hyperparameters\n",
        "model.fit([X_train_factorization, X_train_other, X_train_factorization], y_train_other, epochs=30, batch_size=64, validation_split=0.2)"
      ],
      "metadata": {
        "colab": {
          "base_uri": "https://localhost:8080/"
        },
        "id": "ohGBmyO1eTsv",
        "outputId": "2fb21cae-bbc2-48f4-f75c-c461b630cbcb"
      },
      "execution_count": null,
      "outputs": [
        {
          "output_type": "stream",
          "name": "stdout",
          "text": [
            "Epoch 1/30\n",
            "141/141 [==============================] - 2s 6ms/step - loss: 2607.1292 - val_loss: 182.5519\n",
            "Epoch 2/30\n",
            "141/141 [==============================] - 1s 7ms/step - loss: 145.6445 - val_loss: 140.3335\n",
            "Epoch 3/30\n",
            "141/141 [==============================] - 1s 7ms/step - loss: 162.3048 - val_loss: 166.7272\n",
            "Epoch 4/30\n",
            "141/141 [==============================] - 1s 10ms/step - loss: 173.5931 - val_loss: 177.9796\n",
            "Epoch 5/30\n",
            "141/141 [==============================] - 1s 8ms/step - loss: 157.0968 - val_loss: 143.4381\n",
            "Epoch 6/30\n",
            "141/141 [==============================] - 1s 5ms/step - loss: 192.2600 - val_loss: 318.5553\n",
            "Epoch 7/30\n",
            "141/141 [==============================] - 1s 4ms/step - loss: 262.2767 - val_loss: 153.1873\n",
            "Epoch 8/30\n",
            "141/141 [==============================] - 1s 4ms/step - loss: 202.2697 - val_loss: 204.8918\n",
            "Epoch 9/30\n",
            "141/141 [==============================] - 1s 8ms/step - loss: 206.9611 - val_loss: 155.5442\n",
            "Epoch 10/30\n",
            "141/141 [==============================] - 1s 8ms/step - loss: 165.8734 - val_loss: 171.5213\n",
            "Epoch 11/30\n",
            "141/141 [==============================] - 1s 9ms/step - loss: 177.7933 - val_loss: 299.1918\n",
            "Epoch 12/30\n",
            "141/141 [==============================] - 1s 8ms/step - loss: 174.1651 - val_loss: 165.7888\n",
            "Epoch 13/30\n",
            "141/141 [==============================] - 1s 8ms/step - loss: 175.0148 - val_loss: 186.1110\n",
            "Epoch 14/30\n",
            "141/141 [==============================] - 1s 7ms/step - loss: 167.5474 - val_loss: 141.4611\n",
            "Epoch 15/30\n",
            "141/141 [==============================] - 1s 9ms/step - loss: 189.2675 - val_loss: 229.3929\n",
            "Epoch 16/30\n",
            "141/141 [==============================] - 1s 10ms/step - loss: 153.6110 - val_loss: 245.1842\n",
            "Epoch 17/30\n",
            "141/141 [==============================] - 2s 16ms/step - loss: 153.1986 - val_loss: 199.5530\n",
            "Epoch 18/30\n",
            "141/141 [==============================] - 2s 15ms/step - loss: 152.9472 - val_loss: 190.6262\n",
            "Epoch 19/30\n",
            "141/141 [==============================] - 2s 11ms/step - loss: 138.4055 - val_loss: 150.6413\n",
            "Epoch 20/30\n",
            "141/141 [==============================] - 1s 9ms/step - loss: 152.1219 - val_loss: 140.7843\n",
            "Epoch 21/30\n",
            "141/141 [==============================] - 1s 8ms/step - loss: 134.9297 - val_loss: 146.3226\n",
            "Epoch 22/30\n",
            "141/141 [==============================] - 1s 10ms/step - loss: 142.7587 - val_loss: 199.6255\n",
            "Epoch 23/30\n",
            "141/141 [==============================] - 1s 10ms/step - loss: 149.3530 - val_loss: 138.3353\n",
            "Epoch 24/30\n",
            "141/141 [==============================] - 1s 10ms/step - loss: 138.8460 - val_loss: 132.3871\n",
            "Epoch 25/30\n",
            "141/141 [==============================] - 1s 10ms/step - loss: 133.1251 - val_loss: 127.3845\n",
            "Epoch 26/30\n",
            "141/141 [==============================] - 1s 10ms/step - loss: 133.7153 - val_loss: 136.9393\n",
            "Epoch 27/30\n",
            "141/141 [==============================] - 2s 14ms/step - loss: 131.0145 - val_loss: 127.5493\n",
            "Epoch 28/30\n",
            "141/141 [==============================] - 2s 14ms/step - loss: 134.4892 - val_loss: 132.0627\n",
            "Epoch 29/30\n",
            "141/141 [==============================] - 2s 13ms/step - loss: 127.7679 - val_loss: 133.0296\n",
            "Epoch 30/30\n",
            "141/141 [==============================] - 1s 10ms/step - loss: 129.2767 - val_loss: 128.2001\n"
          ]
        },
        {
          "output_type": "execute_result",
          "data": {
            "text/plain": [
              "<keras.src.callbacks.History at 0x7af132a7f310>"
            ]
          },
          "metadata": {},
          "execution_count": 18
        }
      ]
    },
    {
      "cell_type": "code",
      "source": [
        "\n",
        "# New data for prediction\n",
        "new_data = {\n",
        "    'userId': [1],\n",
        "    'sport': ['bike'],\n",
        "    'duration': [7589],\n",
        "    'avg_heart_rate': [152.650],\n",
        "    'calories': [1562.0]\n",
        "}\n",
        "\n",
        "new_data_df = pd.DataFrame(new_data)\n",
        "\n",
        "\n",
        "# Encode 'sport' using label encoder\n",
        "new_data_df['sport_encoded'] = new_data_df['sport'].astype('category').cat.codes.astype(np.int32)\n",
        "# Predict distance using the trained model\n",
        "predicted_distance = model.predict([np.array(new_data_df['userId']), new_data_df[['duration', 'avg_heart_rate', 'calories']].values, new_data_df['sport_encoded']])\n",
        "print(f'Predicted Distance: {predicted_distance}')\n"
      ],
      "metadata": {
        "colab": {
          "base_uri": "https://localhost:8080/"
        },
        "id": "xHmSJU0aeToC",
        "outputId": "3d76e563-aae3-44f1-990e-0a9da4ad353c"
      },
      "execution_count": null,
      "outputs": [
        {
          "output_type": "stream",
          "name": "stdout",
          "text": [
            "1/1 [==============================] - 0s 358ms/step\n",
            "Predicted Distance: [[39.112812]]\n"
          ]
        }
      ]
    },
    {
      "cell_type": "code",
      "source": [
        "from sklearn.metrics import mean_squared_error\n",
        "import numpy as np\n",
        "\n",
        "# Assuming you have the actual distances\n",
        "  # Fill this with actual distances\n",
        "\n",
        "# Calculate RMSE\n",
        "rmse = np.sqrt(mean_squared_error([40.2],predicted_distance))\n",
        "\n",
        "print(f'RMSE Score: {rmse}')"
      ],
      "metadata": {
        "colab": {
          "base_uri": "https://localhost:8080/"
        },
        "id": "iMWg3VOeiSjD",
        "outputId": "81aa7d34-0785-4c8d-d2d3-59389cacd9f3"
      },
      "execution_count": null,
      "outputs": [
        {
          "output_type": "stream",
          "name": "stdout",
          "text": [
            "RMSE Score: 1.0871879577636747\n"
          ]
        }
      ]
    },
    {
      "cell_type": "code",
      "source": [
        "from keras.optimizers import Adam\n",
        "from keras_tuner import HyperModel\n",
        "\n",
        "class CustomHyperModel(HyperModel):\n",
        "    def __init__(self, input_shape, num_classes):\n",
        "        self.input_shape = input_shape\n",
        "        self.num_classes = num_classes\n",
        "\n",
        "    def build(self, hp):\n",
        "        input_factorization = Input(shape=(1,))\n",
        "        input_other = Input(shape=(X_train_other.shape[1],))\n",
        "        input_sport = Input(shape=(1,), name='sport_encoded')\n",
        "\n",
        "        combined_input = Concatenate()([input_factorization, input_other, input_sport])\n",
        "\n",
        "        # Hyperparameters\n",
        "        hp_units = hp.Int('units', min_value=32, max_value=256, step=32)\n",
        "        hp_learning_rate = hp.Choice('learning_rate', values=[1e-2, 1e-3, 1e-4])\n",
        "        hp_activation = hp.Choice('activation', values=['relu', 'tanh'])\n",
        "\n",
        "        # Hidden layers\n",
        "        x = Dense(units=hp_units, activation=hp_activation)(combined_input)\n",
        "        x = Dense(units=hp_units, activation=hp_activation)(x)\n",
        "        x = Dense(units=hp_units, activation=hp_activation)(x)\n",
        "\n",
        "        output = Dense(1)(x)\n",
        "\n",
        "        model = Model(inputs=[input_factorization, input_other, input_sport], outputs=output)\n",
        "        optimizer = Adam(learning_rate=hp_learning_rate)\n",
        "        model.compile(optimizer=optimizer, loss='mse')\n",
        "        return model\n"
      ],
      "metadata": {
        "id": "3DXOyoRCeTm8"
      },
      "execution_count": null,
      "outputs": []
    },
    {
      "cell_type": "code",
      "source": [
        "\n",
        "from kerastuner import RandomSearch\n",
        "\n",
        "# Define hyperparameters search space\n",
        "hypermodel = CustomHyperModel(input_shape=(1,), num_classes=1)\n",
        "\n",
        "tuner = RandomSearch(\n",
        "    hypermodel,\n",
        "    objective='val_loss',\n",
        "    max_trials=5,\n",
        "    directory='hyperparameter_tuning',\n",
        "    project_name='distance_prediction'\n",
        ")\n",
        "\n",
        "# Perform hyperparameter search\n",
        "tuner.search([X_train_factorization, X_train_other, X_train_factorization], y_train_other, epochs=100, batch_size=64, validation_split=0.2)\n",
        "\n",
        "# Get the best hyperparameters\n",
        "best_hp = tuner.get_best_hyperparameters(num_trials=1)[0]\n"
      ],
      "metadata": {
        "id": "G6RV1mrxeThV",
        "colab": {
          "base_uri": "https://localhost:8080/"
        },
        "outputId": "6c90ebe9-8478-428b-c6a2-6c68dfa03fe1"
      },
      "execution_count": null,
      "outputs": [
        {
          "output_type": "stream",
          "name": "stdout",
          "text": [
            "Trial 5 Complete [00h 01m 12s]\n",
            "val_loss: 126.8222885131836\n",
            "\n",
            "Best val_loss So Far: 126.8222885131836\n",
            "Total elapsed time: 00h 07m 51s\n"
          ]
        }
      ]
    },
    {
      "cell_type": "code",
      "source": [
        "import pandas as pd\n",
        "import numpy as np\n",
        "from sklearn.preprocessing import LabelEncoder\n",
        "from sklearn.model_selection import train_test_split\n",
        "from keras.models import Model\n",
        "from keras.layers import Input, Dense, Concatenate\n",
        "from keras.optimizers import Adam\n",
        "from scipy.sparse import coo_matrix\n",
        "from scipy.sparse.linalg import svds\n",
        "\n",
        "# Assume 'df' is your DataFrame containing the data\n",
        "\n",
        "# Select relevant columns for matrix factorization\n",
        "data = df[['userId', 'sport', 'duration', 'avg_heart_rate', 'calories', 'distance', 'avg_speed']]\n",
        "\n",
        "# Encode categorical variables\n",
        "label_encoders = {}\n",
        "categorical_cols = ['userId', 'sport']\n",
        "for col in categorical_cols:\n",
        "    label_encoders[col] = LabelEncoder()\n",
        "    data.loc[:, col] = label_encoders[col].fit_transform(data.loc[:, col])\n",
        "\n",
        "# Create user-item matrix\n",
        "user_item_matrix = pd.pivot_table(data, values=['duration', 'avg_heart_rate', 'calories', 'distance', 'avg_speed'],\n",
        "                                  index='userId', columns='sport', fill_value=0)\n",
        "\n",
        "# Convert to sparse matrix\n",
        "sparse_matrix = coo_matrix(user_item_matrix)\n",
        "\n",
        "# Perform Singular Value Decomposition (SVD)\n",
        "U, Sigma, VT = svds(sparse_matrix, k=8)\n",
        "\n",
        "# Reconstruct the original matrix\n",
        "predicted_ratings = np.dot(np.dot(U, np.diag(Sigma)), VT)\n",
        "\n",
        "# Flatten the predicted ratings matrix\n",
        "X_factorization = predicted_ratings.flatten()\n",
        "\n",
        "# Create target labels (1 for rated, 0 for unrated)\n",
        "y_factorization = np.where(X_factorization > 0, 1, 0)\n",
        "\n",
        "# Split the data into training and testing sets for matrix factorization features\n",
        "X_train_factorization, X_test_factorization, y_train_factorization, y_test_factorization = train_test_split(\n",
        "    X_factorization.reshape(-1, 1), y_factorization, test_size=0.2, random_state=42)\n",
        "\n",
        "# Select relevant columns for MLP model with other features\n",
        "X_other = data[['duration', 'avg_heart_rate', 'calories']].values\n",
        "y_hr_sequence = data['avg_heart_rate'].values\n",
        "\n",
        "# Split the data into training and testing sets for other features\n",
        "X_train_other, X_test_other, y_train_hr_sequence, y_test_hr_sequence = train_test_split(\n",
        "    X_other, y_hr_sequence, test_size=0.2, random_state=42)  # Use the same test size as matrix factorization\n",
        "\n",
        "# Build the input layers\n",
        "input_factorization = Input(shape=(1,))\n",
        "input_other = Input(shape=(X_train_other.shape[1],))\n",
        "\n",
        "# Combine the input layers\n",
        "combined_input = Concatenate(axis=1)([input_factorization, input_other])\n",
        "\n",
        "# Add hidden layers for heart rate prediction\n",
        "hidden_hr = Dense(64, activation='relu')(combined_input)\n",
        "hidden_hr = Dense(32, activation='relu')(hidden_hr)\n",
        "\n",
        "# Create the output layer for heart rate prediction\n",
        "output_hr = Dense(1, name='heart_rate')(hidden_hr)\n",
        "\n",
        "# Create the model for heart rate prediction\n",
        "model_hr = Model(inputs=[input_factorization, input_other], outputs=output_hr)\n",
        "model_hr.compile(optimizer=Adam(), loss='mse')\n",
        "\n",
        "# Ensure that both X_train_factorization and X_train_other have the same length\n",
        "train_length_hr = min(len(X_train_factorization), len(X_train_other))\n",
        "X_train_factorization_hr = X_train_factorization[:train_length_hr]\n",
        "X_train_other_hr = X_train_other[:train_length_hr]\n",
        "\n",
        "# Train the model for heart rate prediction\n",
        "history_ncf_hr=model_hr.fit([X_train_factorization_hr, X_train_other_hr], y_train_hr_sequence[:train_length_hr],\n",
        "             epochs=10, batch_size=32, verbose=1)\n",
        "\n",
        "# Calculate the number of samples in the test set for heart rate prediction\n",
        "test_length_hr = min(len(X_test_factorization), len(X_test_other))\n",
        "\n",
        "# Ensure that both X_test_factorization and X_test_other have the same length\n",
        "X_test_factorization_hr = X_test_factorization[:test_length_hr]\n",
        "X_test_other_hr = X_test_other[:test_length_hr]\n",
        "\n",
        "# Evaluate the model for heart rate prediction\n",
        "loss_hr = model_hr.evaluate([X_test_factorization_hr, X_test_other_hr], y_test_hr_sequence[:test_length_hr], verbose=1)\n",
        "print(f'Test Loss (Heart Rate): {loss_hr}')\n",
        "\n",
        "# Now, to predict heart rate sequence using the trained model:\n",
        "\n",
        "# Predict heart rate sequence\n",
        "predicted_hr_sequence = model_hr.predict([X_test_factorization_hr, X_test_other_hr])\n",
        "\n",
        "# Print or further utilize the predicted heart rate sequence\n",
        "print(predicted_hr_sequence)\n"
      ],
      "metadata": {
        "id": "1jWFy8zaeGui",
        "colab": {
          "base_uri": "https://localhost:8080/"
        },
        "outputId": "95a491ee-f386-4087-963b-78119b9b507f"
      },
      "execution_count": null,
      "outputs": [
        {
          "output_type": "stream",
          "name": "stdout",
          "text": [
            "Epoch 1/10\n",
            "351/351 [==============================] - 2s 3ms/step - loss: 118670.8203\n",
            "Epoch 2/10\n",
            "351/351 [==============================] - 1s 2ms/step - loss: 1565.0111\n",
            "Epoch 3/10\n",
            "351/351 [==============================] - 1s 2ms/step - loss: 623.3548\n",
            "Epoch 4/10\n",
            "351/351 [==============================] - 1s 2ms/step - loss: 179.0211\n",
            "Epoch 5/10\n",
            "351/351 [==============================] - 1s 2ms/step - loss: 63.4119\n",
            "Epoch 6/10\n",
            "351/351 [==============================] - 1s 2ms/step - loss: 43.6940\n",
            "Epoch 7/10\n",
            "351/351 [==============================] - 1s 2ms/step - loss: 37.7097\n",
            "Epoch 8/10\n",
            "351/351 [==============================] - 1s 4ms/step - loss: 34.8904\n",
            "Epoch 9/10\n",
            "351/351 [==============================] - 2s 6ms/step - loss: 30.5957\n",
            "Epoch 10/10\n",
            "351/351 [==============================] - 2s 5ms/step - loss: 27.4512\n",
            "88/88 [==============================] - 0s 2ms/step - loss: 28.0679\n",
            "Test Loss (Heart Rate): 28.067880630493164\n",
            "88/88 [==============================] - 0s 3ms/step\n",
            "[[150.493  ]\n",
            " [132.18178]\n",
            " [175.01282]\n",
            " ...\n",
            " [101.00426]\n",
            " [146.55055]\n",
            " [151.90807]]\n"
          ]
        }
      ]
    },
    {
      "cell_type": "code",
      "source": [
        "mse_hr = mean_squared_error(y_test_hr_sequence[:test_length_hr], predicted_hr_sequence)\n",
        "print(f'Mean Squared Error (Heart Rate): {mse_hr}')\n",
        "from sklearn.metrics import r2_score\n",
        "\n",
        "# Predict heart rate sequence\n",
        "predicted_hr_sequence = model_hr.predict([X_test_factorization_hr, X_test_other_hr])\n",
        "\n",
        "# Calculate R2 score\n",
        "r2_hr = r2_score(y_test_hr_sequence[:test_length_hr], predicted_hr_sequence)\n",
        "print(f'R2 Score (Heart Rate): {r2_hr}*0.0395')\n"
      ],
      "metadata": {
        "id": "VEuDmeNakUAt",
        "colab": {
          "base_uri": "https://localhost:8080/"
        },
        "outputId": "8152defc-180c-4914-fbf3-08aa4e68044b"
      },
      "execution_count": null,
      "outputs": [
        {
          "output_type": "stream",
          "name": "stdout",
          "text": [
            "Mean Squared Error (Heart Rate): 26.13859486037922\n",
            "88/88 [==============================] - 0s 1ms/step\n",
            "R2 Score (Heart Rate): 0.9293735028870364*0.0395\n"
          ]
        }
      ]
    },
    {
      "cell_type": "code",
      "source": [
        "plt.plot(history_ncf_hr.history['loss'], label='Training Loss')\n",
        "plt.title('Training and Validation Loss')\n",
        "plt.xlabel('Epoch')\n",
        "plt.ylabel('Loss')\n",
        "plt.legend()\n",
        "plt.show()"
      ],
      "metadata": {
        "colab": {
          "base_uri": "https://localhost:8080/",
          "height": 472
        },
        "id": "xGaMX6F1C_K9",
        "outputId": "cb880b49-7ee8-4770-809a-dbee6cc5ce2d"
      },
      "execution_count": null,
      "outputs": [
        {
          "output_type": "display_data",
          "data": {
            "text/plain": [
              "<Figure size 640x480 with 1 Axes>"
            ],
            "image/png": "[encoded data removed]"
          },
          "metadata": {}
        }
      ]
    },
    {
      "cell_type": "code",
      "source": [
        "\n",
        "import pandas as pd\n",
        "import numpy as np\n",
        "from sklearn.preprocessing import LabelEncoder\n",
        "from sklearn.model_selection import train_test_split\n",
        "from keras.models import Model\n",
        "from keras.layers import Input, Dense, Concatenate\n",
        "from keras.optimizers import Adam\n",
        "from scipy.sparse import coo_matrix\n",
        "from scipy.sparse.linalg import svds\n",
        "\n",
        "# Assume 'df' is your DataFrame containing the data\n",
        "\n",
        "# Select relevant columns for matrix factorization\n",
        "data = df[['userId', 'sport', 'duration', 'avg_heart_rate', 'calories', 'distance', 'avg_speed']]\n",
        "\n",
        "# Encode categorical variables\n",
        "label_encoders = {}\n",
        "categorical_cols = ['userId', 'sport']\n",
        "for col in categorical_cols:\n",
        "    label_encoders[col] = LabelEncoder()\n",
        "    data.loc[:, col] = label_encoders[col].fit_transform(data.loc[:, col])\n",
        "\n",
        "# Create user-item matrix\n",
        "user_item_matrix = pd.pivot_table(data, values=['duration', 'avg_heart_rate', 'calories', 'distance', 'avg_speed'],\n",
        "                                  index='userId', columns='sport', fill_value=0)\n",
        "\n",
        "# Convert to sparse matrix\n",
        "sparse_matrix = coo_matrix(user_item_matrix)\n",
        "\n",
        "# Perform Singular Value Decomposition (SVD)\n",
        "U, Sigma, VT = svds(sparse_matrix, k=8)\n",
        "\n",
        "# Reconstruct the original matrix\n",
        "predicted_ratings = np.dot(np.dot(U, np.diag(Sigma)), VT)\n",
        "\n",
        "# Flatten the predicted ratings matrix\n",
        "X_factorization = predicted_ratings.flatten()\n",
        "\n",
        "# Create target labels (1 for rated, 0 for unrated)\n",
        "y_factorization = np.where(X_factorization > 0, 1, 0)\n",
        "\n",
        "# Split the data into training and testing sets for matrix factorization features\n",
        "X_train_factorization, X_test_factorization, y_train_factorization, y_test_factorization = train_test_split(\n",
        "    X_factorization.reshape(-1, 1), y_factorization, test_size=0.2, random_state=42)\n",
        "\n",
        "# Select relevant columns for MLP model with other features\n",
        "X_other = data[['duration', 'avg_heart_rate', 'calories']].values\n",
        "y_speed_sequence = data['avg_speed'].values\n",
        "\n",
        "# Split the data into training and testing sets for other features\n",
        "X_train_other, X_test_other, y_train_speed_sequence, y_test_speed_sequence = train_test_split(\n",
        "    X_other, y_speed_sequence, test_size=0.2, random_state=42)  # Use the same test size as matrix factorization\n",
        "\n",
        "# Build the input layers\n",
        "input_factorization = Input(shape=(1,))\n",
        "input_other = Input(shape=(X_train_other.shape[1],))\n",
        "\n",
        "# Combine the input layers\n",
        "combined_input = Concatenate(axis=1)([input_factorization, input_other])\n",
        "\n",
        "# Add hidden layers for speed prediction\n",
        "hidden_speed = Dense(64, activation='relu')(combined_input)\n",
        "hidden_speed = Dense(32, activation='relu')(hidden_speed)\n",
        "\n",
        "# Create the output layer for speed prediction\n",
        "output_speed = Dense(1, name='speed')(hidden_speed)\n",
        "\n",
        "# Create the model for speed prediction\n",
        "model_speed = Model(inputs=[input_factorization, input_other], outputs=output_speed)\n",
        "model_speed.compile(optimizer=Adam(), loss='mse')\n",
        "\n",
        "# Ensure that both X_train_factorization and X_train_other have the same length\n",
        "train_length_speed = min(len(X_train_factorization), len(X_train_other))\n",
        "X_train_factorization_speed = X_train_factorization[:train_length_speed]\n",
        "X_train_other_speed = X_train_other[:train_length_speed]\n",
        "\n",
        "# Train the model for speed prediction\n",
        "history_ncf=model_speed.fit([X_train_factorization_speed, X_train_other_speed], y_train_speed_sequence[:train_length_speed],\n",
        "             epochs=3, batch_size=32, verbose=1)\n",
        "\n",
        "# Calculate the number of samples in the test set for speed prediction\n",
        "test_length_speed = min(len(X_test_factorization), len(X_test_other))\n",
        "\n",
        "# Ensure that both X_test_factorization and X_test_other have the same length\n",
        "X_test_factorization_speed = X_test_factorization[:test_length_speed]\n",
        "X_test_other_speed = X_test_other[:test_length_speed]\n",
        "\n",
        "# Evaluate the model for speed prediction\n",
        "loss_speed = model_speed.evaluate([X_test_factorization_speed, X_test_other_speed], y_test_speed_sequence[:test_length_speed], verbose=1)\n",
        "print(f'Test Loss (Speed): {loss_speed}')\n",
        "\n",
        "# Now, to predict speed sequence using the trained model:\n",
        "\n",
        "# Predict speed sequence\n",
        "predicted_speed_sequence = model_speed.predict([X_test_factorization_speed, X_test_other_speed])\n",
        "\n",
        "# Print or further utilize the predicted speed sequence\n",
        "print(predicted_speed_sequence)\n"
      ],
      "metadata": {
        "id": "a4wdeZD3erSb",
        "colab": {
          "base_uri": "https://localhost:8080/"
        },
        "outputId": "2f26371c-ee7f-4b66-a310-052497ff80ac"
      },
      "execution_count": null,
      "outputs": [
        {
          "output_type": "stream",
          "name": "stdout",
          "text": [
            "Epoch 1/3\n",
            "351/351 [==============================] - 3s 3ms/step - loss: 7469.6997\n",
            "Epoch 2/3\n",
            "351/351 [==============================] - 1s 3ms/step - loss: 118.6150\n",
            "Epoch 3/3\n",
            "351/351 [==============================] - 1s 4ms/step - loss: 102.1441\n",
            "88/88 [==============================] - 0s 1ms/step - loss: 89.5410\n",
            "Test Loss (Speed): 89.54103088378906\n",
            "88/88 [==============================] - 0s 1ms/step\n",
            "[[14.676372 ]\n",
            " [17.789669 ]\n",
            " [19.182835 ]\n",
            " ...\n",
            " [ 9.376933 ]\n",
            " [16.108227 ]\n",
            " [14.9279585]]\n"
          ]
        }
      ]
    },
    {
      "cell_type": "code",
      "source": [
        "from sklearn.metrics import r2_score, mean_squared_error\n",
        "\n",
        "# Evaluate the model for speed prediction\n",
        "loss_speed = model_speed.evaluate([X_test_factorization_speed, X_test_other_speed], y_test_speed_sequence[:test_length_speed], verbose=1)\n",
        "print(f'Test Loss (Speed): {loss_speed}')\n",
        "\n",
        "# Calculate R2 score\n",
        "r2 = r2_score(y_test_speed_sequence[:test_length_speed], predicted_speed_sequence)\n",
        "print(f'R2 Score: {r2}')\n",
        "\n",
        "# Calculate MSE\n",
        "mse = mean_squared_error(y_test_speed_sequence[:test_length_speed], predicted_speed_sequence)\n",
        "print(f'Mean Squared Error: {mse}')"
      ],
      "metadata": {
        "colab": {
          "base_uri": "https://localhost:8080/"
        },
        "id": "hzfGVloFDKSo",
        "outputId": "17122840-0bc7-4dae-c83e-f33dfaae8ce5"
      },
      "execution_count": null,
      "outputs": [
        {
          "output_type": "stream",
          "name": "stdout",
          "text": [
            "88/88 [==============================] - 0s 1ms/step - loss: 89.5410\n",
            "Test Loss (Speed): 89.54103088378906\n",
            "R2 Score: -0.35135441814028234\n",
            "Mean Squared Error: 89.54104865193767\n"
          ]
        }
      ]
    },
    {
      "cell_type": "code",
      "source": [
        "plt.plot(history_ncf.history['loss'], label='Training Loss')\n",
        "plt.title('Training and Validation Loss')\n",
        "plt.xlabel('Epoch')\n",
        "plt.ylabel('Loss')\n",
        "plt.legend()\n",
        "plt.show()"
      ],
      "metadata": {
        "colab": {
          "base_uri": "https://localhost:8080/",
          "height": 472
        },
        "id": "SbrWyFKLCKPq",
        "outputId": "3f77da8d-8b46-4752-e61d-b433299962f1"
      },
      "execution_count": null,
      "outputs": [
        {
          "output_type": "display_data",
          "data": {
            "text/plain": [
              "<Figure size 640x480 with 1 Axes>"
            ],
            "image/png": "[encoded data removed]"
          },
          "metadata": {}
        }
      ]
    },
    {
      "cell_type": "markdown",
      "source": [
        "gru\n"
      ],
      "metadata": {
        "id": "2JypqQ4LKbrA"
      }
    },
    {
      "cell_type": "code",
      "source": [
        "import pandas as pd\n",
        "import numpy as np\n",
        "from sklearn.preprocessing import LabelEncoder\n",
        "from sklearn.model_selection import train_test_split\n",
        "from tensorflow import keras\n",
        "from tensorflow.keras.layers import Input, Dense, GRU, Embedding, Concatenate\n",
        "from tensorflow.keras.optimizers import Adam\n",
        "\n",
        "# ... (same data preprocessing steps as before)\n",
        "\n",
        "# Separate features for GRU and target variable\n",
        "X_gru = data[['userId', 'sport']].values\n",
        "y_speed_sequence = data['avg_speed'].values\n",
        "\n",
        "# Encode categorical features using one-hot encoding\n",
        "label_encoder = LabelEncoder()\n",
        "X_gru[:, 0] = label_encoder.fit_transform(X_gru[:, 0])  # Encode userId\n",
        "# One-hot encode sport (assuming a limited number of sports)\n",
        "num_sports = len(set(data['sport']))\n",
        "X_gru = keras.utils.to_categorical(X_gru[:, 1], num_sports)  # Encode sport\n",
        "\n",
        "# Split the data into training and testing sets\n",
        "X_train_gru, X_test_gru, y_train_speed_sequence, y_test_speed_sequence = train_test_split(\n",
        "    X_gru, y_speed_sequence, test_size=0.2, random_state=42)\n",
        "\n",
        "# Define the GRU model for speed prediction\n",
        "max_len = X_train_gru.shape[1]  # Maximum sequence length\n",
        "embedding_dim = 8  # Embedding dimension for categorical features\n",
        "\n",
        "input_gru = Input(shape=(max_len,))\n",
        "\n",
        "# Embedding layer for categorical features (userId and sport)\n",
        "embedded_gru = Embedding(num_sports + 1, embedding_dim)(input_gru)  # +1 for padding\n",
        "\n",
        "# GRU layer\n",
        "gru_layer = GRU(units=32, return_sequences=True)(embedded_gru)\n",
        "\n",
        "# Concatenate with other features (optional, if available)\n",
        "# ... (concatenate with other features here if needed)\n",
        "\n",
        "# Output layer for speed prediction\n",
        "output_speed = Dense(1, name='speed')(gru_layer)\n",
        "\n",
        "# Create the GRU model\n",
        "model_speed_gru = Model(inputs=input_gru, outputs=output_speed)\n",
        "model_speed_gru.compile(optimizer=Adam(), loss='mse')\n",
        "\n",
        "# Train the GRU model\n",
        "history=model_speed_gru.fit(X_train_gru, y_train_speed_sequence, epochs=2, batch_size=32, verbose=1)\n",
        "\n",
        "# Evaluate the model\n",
        "loss_speed = model_speed_gru.evaluate(X_test_gru, y_test_speed_sequence, verbose=1)\n",
        "print(f'Test Loss (Speed - GRU): {loss_speed}')\n",
        "\n",
        "# Predict speed sequence using the trained GRU model\n",
        "predicted_speed_sequence = model_speed_gru.predict(X_test_gru)\n",
        "\n",
        "# Print or further utilize the predicted speed sequence\n",
        "print(predicted_speed_sequence)\n"
      ],
      "metadata": {
        "id": "eY2RGVucxoc8",
        "colab": {
          "base_uri": "https://localhost:8080/"
        },
        "outputId": "e070cdc0-9587-4044-8596-becc887449e5"
      },
      "execution_count": null,
      "outputs": [
        {
          "output_type": "stream",
          "name": "stdout",
          "text": [
            "Epoch 1/2\n",
            "1638/1638 [==============================] - 10s 4ms/step - loss: 0.0383\n",
            "Epoch 2/2\n",
            "1638/1638 [==============================] - 8s 5ms/step - loss: 0.0376\n",
            "410/410 [==============================] - 1s 2ms/step - loss: 0.0382\n",
            "Test Loss (Speed - GRU): 0.038220930844545364\n",
            "410/410 [==============================] - 1s 2ms/step\n",
            "[[[0.3238182 ]\n",
            "  [0.32586563]\n",
            "  [0.32699472]]\n",
            "\n",
            " [[0.3238182 ]\n",
            "  [0.32586563]\n",
            "  [0.32699472]]\n",
            "\n",
            " [[0.3127153 ]\n",
            "  [0.31645375]\n",
            "  [0.3167805 ]]\n",
            "\n",
            " ...\n",
            "\n",
            " [[0.3238182 ]\n",
            "  [0.32586563]\n",
            "  [0.32699472]]\n",
            "\n",
            " [[0.3127153 ]\n",
            "  [0.31645375]\n",
            "  [0.3167805 ]]\n",
            "\n",
            " [[0.3238182 ]\n",
            "  [0.32586563]\n",
            "  [0.32699472]]]\n"
          ]
        }
      ]
    },
    {
      "cell_type": "code",
      "source": [
        "import matplotlib.pyplot as plt\n",
        "plt.plot(history.history['loss'], label='Training Loss')\n",
        "# plt.plot(history.history['val_loss'], label='Validation Loss')\n",
        "plt.title('Training and Validation Loss')\n",
        "plt.xlabel('Epoch')\n",
        "plt.ylabel('Loss')\n",
        "plt.legend()\n",
        "plt.show()"
      ],
      "metadata": {
        "colab": {
          "base_uri": "https://localhost:8080/",
          "height": 472
        },
        "id": "d3PhWgwF_9kA",
        "outputId": "354e3731-a0e2-48dc-83e7-57c97f017dd7"
      },
      "execution_count": null,
      "outputs": [
        {
          "output_type": "display_data",
          "data": {
            "text/plain": [
              "<Figure size 640x480 with 1 Axes>"
            ],
            "image/png": "[encoded data removed]"
          },
          "metadata": {}
        }
      ]
    },
    {
      "cell_type": "code",
      "source": [
        "\n",
        "from sklearn.metrics import r2_score\n",
        "\n",
        "# Predict speed sequence\n",
        "predicted_speed_sequence = model_speed.predict([X_test_factorization_speed, X_test_other_speed])\n",
        "\n",
        "# Calculate R2 score\n",
        "r2_speed = r2_score(y_test_speed_sequence[:test_length_speed], predicted_speed_sequence)\n",
        "print(f'R2 Score (Speed): {r2_speed}')"
      ],
      "metadata": {
        "id": "XOs0imMWerQ_"
      },
      "execution_count": null,
      "outputs": []
    },
    {
      "cell_type": "code",
      "source": [
        "mse_hr = mean_squared_error(y_test_hr_sequence[:test_length_hr], predicted_speed_sequence)\n",
        "print(f'Mean Squared Error (Speed): {mse_hr}')\n"
      ],
      "metadata": {
        "id": "tsvjrtsulT73"
      },
      "execution_count": null,
      "outputs": []
    },
    {
      "cell_type": "code",
      "source": [
        "import pandas as pd\n",
        "import numpy as np\n",
        "from sklearn.preprocessing import LabelEncoder, MinMaxScaler\n",
        "from sklearn.model_selection import train_test_split\n",
        "from keras.models import Sequential\n",
        "from keras.layers import GRU, Dense\n",
        "from keras.optimizers import Adam\n",
        "\n",
        "# Assume 'df' is your DataFrame containing the data\n",
        "\n",
        "# Select relevant columns for heart rate sequence prediction\n",
        "data = df[['userId', 'sport', 'duration', 'avg_heart_rate', 'calories', 'distance', 'avg_speed']]\n",
        "\n",
        "# Encode categorical variables\n",
        "label_encoders = {}\n",
        "categorical_cols = ['userId', 'sport']\n",
        "for col in categorical_cols:\n",
        "    label_encoders[col] = LabelEncoder()\n",
        "    data[col] = label_encoders[col].fit_transform(data[col])\n",
        "\n",
        "# Normalize numerical features\n",
        "scaler = MinMaxScaler()\n",
        "data[['duration', 'calories', 'distance', 'avg_speed']] = scaler.fit_transform(data[['duration', 'calories', 'distance', 'avg_speed']])\n",
        "\n",
        "# Sort data by user ID and then by time (assuming there's a time column)\n",
        "data.sort_values(by=['userId','avg_heart_rate' ],inplace=True)\n",
        "\n",
        "# Define sequence length (number of time steps to consider)\n",
        "sequence_length = 10  # You can adjust this value based on your data and requirements\n",
        "\n",
        "# Prepare sequences for each user\n",
        "sequences = []\n",
        "next_hr_values = []\n",
        "for user_id, user_data in data.groupby('userId'):\n",
        "    for i in range(len(user_data) - sequence_length):\n",
        "        seq = user_data.iloc[i:i+sequence_length][['duration', 'avg_heart_rate', 'calories', 'distance', 'avg_speed']].values\n",
        "        sequences.append(seq)\n",
        "        next_hr_values.append(user_data.iloc[i+sequence_length]['avg_heart_rate'])\n",
        "\n",
        "# Convert sequences and next_hr_values to numpy arrays\n",
        "sequences = np.array(sequences)\n",
        "next_hr_values = np.array(next_hr_values)\n",
        "\n",
        "# Split data into training and testing sets\n",
        "X_train, X_test, y_train, y_test = train_test_split(sequences, next_hr_values, test_size=0.2, random_state=42)\n",
        "\n",
        "# Define the GRU model\n",
        "model = Sequential()\n",
        "model.add(GRU(units=64, input_shape=(X_train.shape[1], X_train.shape[2])))\n",
        "model.add(Dense(units=1))  # Output layer for heart rate prediction\n",
        "\n",
        "# Compile the model\n",
        "model.compile(optimizer=Adam(), loss='mse')\n",
        "\n",
        "# Train the model\n",
        "history_gru=model.fit(X_train, y_train, epochs=10, batch_size=32, verbose=1)\n",
        "\n",
        "# Evaluate the model\n",
        "loss = model.evaluate(X_test, y_test, verbose=1)\n",
        "print(f'Test Loss: {loss}')\n",
        "\n",
        "# Now, to predict heart rate sequences using the trained model:\n",
        "\n",
        "# Predict heart rate sequences\n",
        "predicted_hr_sequences = model.predict(X_test)\n",
        "\n",
        "# Print or further utilize the predicted heart rate sequences\n",
        "print(predicted_hr_sequences)\n"
      ],
      "metadata": {
        "id": "Ap6x_nTemzJ_",
        "colab": {
          "base_uri": "https://localhost:8080/"
        },
        "outputId": "9df5f3ae-051c-4df0-8af4-3bd33529c43b"
      },
      "execution_count": null,
      "outputs": [
        {
          "output_type": "stream",
          "name": "stdout",
          "text": [
            "Epoch 1/10\n",
            "1433/1433 [==============================] - 16s 9ms/step - loss: 10894.9707\n",
            "Epoch 2/10\n",
            "1433/1433 [==============================] - 14s 9ms/step - loss: 2041.2059\n",
            "Epoch 3/10\n",
            "1433/1433 [==============================] - 14s 9ms/step - loss: 223.8046\n",
            "Epoch 4/10\n",
            "1433/1433 [==============================] - 13s 9ms/step - loss: 37.9090\n",
            "Epoch 5/10\n",
            "1433/1433 [==============================] - 14s 10ms/step - loss: 10.7773\n",
            "Epoch 6/10\n",
            "1433/1433 [==============================] - 14s 10ms/step - loss: 4.2586\n",
            "Epoch 7/10\n",
            "1433/1433 [==============================] - 15s 11ms/step - loss: 2.3164\n",
            "Epoch 8/10\n",
            "1433/1433 [==============================] - 14s 10ms/step - loss: 1.6121\n",
            "Epoch 9/10\n",
            "1433/1433 [==============================] - 14s 10ms/step - loss: 1.3097\n",
            "Epoch 10/10\n",
            "1433/1433 [==============================] - 14s 10ms/step - loss: 1.1846\n",
            "359/359 [==============================] - 2s 3ms/step - loss: 2.1877\n",
            "Test Loss: 2.187718391418457\n",
            "359/359 [==============================] - 2s 4ms/step\n",
            "[[160.07404 ]\n",
            " [112.972466]\n",
            " [122.32564 ]\n",
            " ...\n",
            " [135.25824 ]\n",
            " [137.28864 ]\n",
            " [161.83084 ]]\n"
          ]
        }
      ]
    },
    {
      "cell_type": "code",
      "source": [
        "from sklearn.metrics import r2_score\n",
        "\n",
        "# Calculate R2 score\n",
        "r2 = r2_score(y_test, predicted_hr_sequences)\n",
        "print(f'R2 Score: {r2}')\n"
      ],
      "metadata": {
        "id": "e2AYQxr3vwbK",
        "colab": {
          "base_uri": "https://localhost:8080/"
        },
        "outputId": "144ca02b-e68a-4eb6-f472-873c15a549ee"
      },
      "execution_count": null,
      "outputs": [
        {
          "output_type": "stream",
          "name": "stdout",
          "text": [
            "R2 Score: 0.9934112673641695\n"
          ]
        }
      ]
    },
    {
      "cell_type": "code",
      "source": [
        "plt.plot(history_gru.history['loss'], label='Training Loss')\n",
        "plt.title('Training and Validation Loss')\n",
        "plt.xlabel('Epoch')\n",
        "plt.ylabel('Loss')\n",
        "plt.legend()\n",
        "plt.show()"
      ],
      "metadata": {
        "colab": {
          "base_uri": "https://localhost:8080/",
          "height": 472
        },
        "id": "C9qh-EnsE3Q9",
        "outputId": "e86eea80-8df7-46f7-a7ad-585b2224e171"
      },
      "execution_count": null,
      "outputs": [
        {
          "output_type": "display_data",
          "data": {
            "text/plain": [
              "<Figure size 640x480 with 1 Axes>"
            ],
            "image/png": "[encoded data removed]"
          },
          "metadata": {}
        }
      ]
    }
  ]
}